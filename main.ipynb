{
  "cells": [
    {
      "attachments": {},
      "cell_type": "markdown",
      "metadata": {
        "id": "n0bntatBExeS"
      },
      "source": [
        "# TRANSFORMER - Text classification"
      ]
    },
    {
      "attachments": {},
      "cell_type": "markdown",
      "metadata": {
        "id": "vKsirzgBExeT"
      },
      "source": [
        "Bộ dữ liệu sử dụng: UIT-ViOCD (link download: https://drive.google.com/drive/folders/1Lu9axyLkw7dMx80uLRgvCnZsmNzhJWAa?usp=sharing)"
      ]
    },
    {
      "cell_type": "code",
      "execution_count": 1,
      "metadata": {
        "colab": {
          "base_uri": "https://localhost:8080/"
        },
        "id": "ctxcP7U2E9zr",
        "outputId": "57a25653-de39-4b56-83e9-dd746231d330"
      },
      "outputs": [
        {
          "name": "stdout",
          "output_type": "stream",
          "text": [
            "Retrieving folder contents\n",
            "Processing file 1HyTr0D1vii0NWZGJBo8L98npE7AtKrrg dev.json\n",
            "Processing file 1b1gb-p9SZ3-qrxT1dO1-z9UyHvQ-__R4 test.json\n",
            "Processing file 1afbZp0WcBG43UJA_By0FcttY8clG7s2s train.json\n",
            "Retrieving folder contents completed\n",
            "Building directory structure\n",
            "Building directory structure completed\n",
            "Downloading...\n",
            "From: https://drive.google.com/uc?id=1HyTr0D1vii0NWZGJBo8L98npE7AtKrrg\n",
            "To: /content/UIT-ViOCD/dev.json\n",
            "100% 167k/167k [00:00<00:00, 101MB/s]\n",
            "Downloading...\n",
            "From: https://drive.google.com/uc?id=1b1gb-p9SZ3-qrxT1dO1-z9UyHvQ-__R4\n",
            "To: /content/UIT-ViOCD/test.json\n",
            "100% 166k/166k [00:00<00:00, 141MB/s]\n",
            "Downloading...\n",
            "From: https://drive.google.com/uc?id=1afbZp0WcBG43UJA_By0FcttY8clG7s2s\n",
            "To: /content/UIT-ViOCD/train.json\n",
            "100% 1.32M/1.32M [00:00<00:00, 166MB/s]\n",
            "Download completed\n"
          ]
        }
      ],
      "source": [
        "!gdown --folder https://www.google.com/url?q=https%3A%2F%2Fdrive.google.com%2Fdrive%2Ffolders%2F1Lu9axyLkw7dMx80uLRgvCnZsmNzhJWAa%3Fusp%3Dsharing"
      ]
    },
    {
      "cell_type": "code",
      "execution_count": 2,
      "metadata": {
        "colab": {
          "base_uri": "https://localhost:8080/"
        },
        "id": "_UqeKmEIF66T",
        "outputId": "1ec9fad7-c299-4e2e-b5f8-b03707762ff1"
      },
      "outputs": [
        {
          "name": "stdout",
          "output_type": "stream",
          "text": [
            "Epoch 0 - Training: 100% 138/138 [00:13<00:00, 10.27it/s, loss=0.0135]\n",
            "Epoch 0 - Evaluating: 100% 548/548 [00:01<00:00, 348.69it/s]\n",
            "/usr/local/lib/python3.10/dist-packages/sklearn/metrics/_classification.py:1565: UndefinedMetricWarning: Precision is ill-defined and being set to 0.0 in labels with no predicted samples. Use `zero_division` parameter to control this behavior.\n",
            "  _warn_prf(average, modifier, f\"{metric.capitalize()} is\", len(result))\n",
            "Dev scores: {'f1': 0.3405535499398315, 'precision': 0.25821167883211676, 'recall': 0.5}\n",
            "Epoch 1 - Training: 100% 138/138 [00:12<00:00, 11.31it/s, loss=0.00638]\n",
            "Epoch 1 - Evaluating: 100% 548/548 [00:01<00:00, 369.75it/s]\n",
            "/usr/local/lib/python3.10/dist-packages/sklearn/metrics/_classification.py:1565: UndefinedMetricWarning: Precision is ill-defined and being set to 0.0 in labels with no predicted samples. Use `zero_division` parameter to control this behavior.\n",
            "  _warn_prf(average, modifier, f\"{metric.capitalize()} is\", len(result))\n",
            "Dev scores: {'f1': 0.3405535499398315, 'precision': 0.25821167883211676, 'recall': 0.5}\n",
            "Epoch 2 - Training: 100% 138/138 [00:12<00:00, 10.95it/s, loss=0.00751]\n",
            "Epoch 2 - Evaluating: 100% 548/548 [00:01<00:00, 371.92it/s]\n",
            "/usr/local/lib/python3.10/dist-packages/sklearn/metrics/_classification.py:1565: UndefinedMetricWarning: Precision is ill-defined and being set to 0.0 in labels with no predicted samples. Use `zero_division` parameter to control this behavior.\n",
            "  _warn_prf(average, modifier, f\"{metric.capitalize()} is\", len(result))\n",
            "Dev scores: {'f1': 0.3405535499398315, 'precision': 0.25821167883211676, 'recall': 0.5}\n",
            "Epoch 3 - Training: 100% 138/138 [00:13<00:00, 10.59it/s, loss=nan]\n",
            "Epoch 3 - Evaluating: 100% 548/548 [00:01<00:00, 367.05it/s]\n",
            "/usr/local/lib/python3.10/dist-packages/sklearn/metrics/_classification.py:1565: UndefinedMetricWarning: Precision is ill-defined and being set to 0.0 in labels with no predicted samples. Use `zero_division` parameter to control this behavior.\n",
            "  _warn_prf(average, modifier, f\"{metric.capitalize()} is\", len(result))\n",
            "Dev scores: {'f1': 0.3405535499398315, 'precision': 0.25821167883211676, 'recall': 0.5}\n",
            "Epoch 4 - Training: 100% 138/138 [00:13<00:00, 10.26it/s, loss=nan]\n",
            "Epoch 4 - Evaluating: 100% 548/548 [00:01<00:00, 376.52it/s]\n",
            "/usr/local/lib/python3.10/dist-packages/sklearn/metrics/_classification.py:1565: UndefinedMetricWarning: Precision is ill-defined and being set to 0.0 in labels with no predicted samples. Use `zero_division` parameter to control this behavior.\n",
            "  _warn_prf(average, modifier, f\"{metric.capitalize()} is\", len(result))\n",
            "Dev scores: {'f1': 0.3405535499398315, 'precision': 0.25821167883211676, 'recall': 0.5}\n",
            "Epoch 5 - Training: 100% 138/138 [00:13<00:00, 10.51it/s, loss=nan]\n",
            "Epoch 5 - Evaluating: 100% 548/548 [00:01<00:00, 313.72it/s]\n",
            "/usr/local/lib/python3.10/dist-packages/sklearn/metrics/_classification.py:1565: UndefinedMetricWarning: Precision is ill-defined and being set to 0.0 in labels with no predicted samples. Use `zero_division` parameter to control this behavior.\n",
            "  _warn_prf(average, modifier, f\"{metric.capitalize()} is\", len(result))\n",
            "Dev scores: {'f1': 0.3405535499398315, 'precision': 0.25821167883211676, 'recall': 0.5}\n",
            "Epoch 5 - Evaluating: 100% 549/549 [00:01<00:00, 284.05it/s]\n",
            "/usr/local/lib/python3.10/dist-packages/sklearn/metrics/_classification.py:1565: UndefinedMetricWarning: Precision is ill-defined and being set to 0.0 in labels with no predicted samples. Use `zero_division` parameter to control this behavior.\n",
            "  _warn_prf(average, modifier, f\"{metric.capitalize()} is\", len(result))\n",
            "Test scores: {'f1': 0.33695652173913043, 'precision': 0.2540983606557377, 'recall': 0.5}\n"
          ]
        }
      ],
      "source": [
        "!python main.py --positional_encoding sinusoidal"
      ]
    },
    {
      "cell_type": "code",
      "execution_count": null,
      "metadata": {
        "id": "cjv-mF_kRIAn"
      },
      "outputs": [],
      "source": []
    }
  ],
  "metadata": {
    "accelerator": "GPU",
    "colab": {
      "gpuType": "T4",
      "provenance": []
    },
    "kernelspec": {
      "display_name": "Python 3",
      "name": "python3"
    },
    "language_info": {
      "name": "python"
    }
  },
  "nbformat": 4,
  "nbformat_minor": 0
}
