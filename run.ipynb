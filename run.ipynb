{
  "cells": [
    {
      "cell_type": "code",
      "execution_count": 4,
      "metadata": {
        "colab": {
          "base_uri": "https://localhost:8080/"
        },
        "id": "d3NRvZ2YoexK",
        "outputId": "481b97bf-1880-417a-d7d2-1c89e1e022b2"
      },
      "outputs": [
        {
          "output_type": "stream",
          "name": "stdout",
          "text": [
            "Epoch 0 - Training: 100% 138/138 [00:14<00:00,  9.83it/s, loss=0.797]\n",
            "Epoch 0 - Evaluating:   0% 0/548 [00:00<?, ?it/s]/usr/local/lib/python3.10/dist-packages/torch/nn/modules/transformer.py:502: UserWarning: The PyTorch API of nested tensors is in prototype stage and will change in the near future. (Triggered internally at ../aten/src/ATen/NestedTensorImpl.cpp:178.)\n",
            "  output = torch._nested_tensor_from_mask(\n",
            "Epoch 0 - Evaluating: 100% 548/548 [00:01<00:00, 300.11it/s]\n",
            "/usr/local/lib/python3.10/dist-packages/sklearn/metrics/_classification.py:1565: UndefinedMetricWarning: Precision is ill-defined and being set to 0.0 in labels with no predicted samples. Use `zero_division` parameter to control this behavior.\n",
            "  _warn_prf(average, modifier, f\"{metric.capitalize()} is\", len(result))\n",
            "Dev scores: {'f1': 0.32595325953259535, 'precision': 0.2417883211678832, 'recall': 0.5}\n",
            "Epoch 1 - Training: 100% 138/138 [00:12<00:00, 10.86it/s, loss=0.708]\n",
            "Epoch 1 - Evaluating: 100% 548/548 [00:01<00:00, 336.16it/s]\n",
            "/usr/local/lib/python3.10/dist-packages/sklearn/metrics/_classification.py:1565: UndefinedMetricWarning: Precision is ill-defined and being set to 0.0 in labels with no predicted samples. Use `zero_division` parameter to control this behavior.\n",
            "  _warn_prf(average, modifier, f\"{metric.capitalize()} is\", len(result))\n",
            "Dev scores: {'f1': 0.3405535499398315, 'precision': 0.25821167883211676, 'recall': 0.5}\n",
            "Epoch 2 - Training: 100% 138/138 [00:12<00:00, 10.81it/s, loss=0.662]\n",
            "Epoch 2 - Evaluating: 100% 548/548 [00:01<00:00, 324.95it/s]\n",
            "Dev scores: {'f1': 0.7902105550998086, 'precision': 0.8172586620178688, 'recall': 0.7911994132942196}\n",
            "Epoch 3 - Training: 100% 138/138 [00:12<00:00, 10.73it/s, loss=0.551]\n",
            "Epoch 3 - Evaluating: 100% 548/548 [00:01<00:00, 339.06it/s]\n",
            "Dev scores: {'f1': 0.7131670178777785, 'precision': 0.7493296991423112, 'recall': 0.724434962330822}\n",
            "Epoch 4 - Training: 100% 138/138 [00:12<00:00, 10.68it/s, loss=0.601]\n",
            "Epoch 4 - Evaluating: 100% 548/548 [00:01<00:00, 281.46it/s]\n",
            "Dev scores: {'f1': 0.7416313059877416, 'precision': 0.7495700034399725, 'recall': 0.741849456630442}\n",
            "Epoch 5 - Training: 100% 138/138 [00:13<00:00, 10.56it/s, loss=0.606]\n",
            "Epoch 5 - Evaluating: 100% 548/548 [00:02<00:00, 262.00it/s]\n",
            "Dev scores: {'f1': 0.7156240184631353, 'precision': 0.7367058585332698, 'recall': 0.7182478831922128}\n",
            "Epoch 6 - Training: 100% 138/138 [00:12<00:00, 10.75it/s, loss=0.602]\n",
            "Epoch 6 - Evaluating: 100% 548/548 [00:01<00:00, 337.26it/s]\n",
            "Dev scores: {'f1': 0.6931573547568122, 'precision': 0.7336290071584189, 'recall': 0.7001866791119408}\n",
            "Epoch 7 - Training: 100% 138/138 [00:12<00:00, 10.62it/s, loss=0.603]\n",
            "Epoch 7 - Evaluating: 100% 548/548 [00:01<00:00, 332.93it/s]\n",
            "Dev scores: {'f1': 0.7164247311827957, 'precision': 0.7218648859027408, 'recall': 0.716634442296153}\n",
            "Epoch 7 - Evaluating: 100% 549/549 [00:01<00:00, 315.92it/s]\n",
            "Test scores: {'f1': 0.6906544312967882, 'precision': 0.6997272501859657, 'recall': 0.6924731182795698}\n"
          ]
        }
      ],
      "source": [
        "!python main.py"
      ]
    }
  ],
  "metadata": {
    "accelerator": "GPU",
    "colab": {
      "gpuType": "T4",
      "provenance": []
    },
    "kernelspec": {
      "display_name": "Python 3",
      "name": "python3"
    },
    "language_info": {
      "name": "python"
    }
  },
  "nbformat": 4,
  "nbformat_minor": 0
}